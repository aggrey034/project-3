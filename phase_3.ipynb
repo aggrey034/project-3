{
 "cells": [
  {
   "cell_type": "markdown",
   "metadata": {},
   "source": [
    "# **SYRIATEL CUSTOMER CHURN**"
   ]
  },
  {
   "cell_type": "markdown",
   "metadata": {},
   "source": [
    "## INTRODUCTION"
   ]
  },
  {
   "cell_type": "markdown",
   "metadata": {},
   "source": [
    "**NAME**;   Aggrey Musonye Timbwa\n",
    "\n",
    "**DATA BEING ANALYSING**;  SyriaTel Customer Churn\n",
    "\n",
    "**PROJECT PERIOD**; 22/08/2024 to 30/08/2024\n",
    "\n",
    "**STUDENT PACE**; part_time classes"
   ]
  },
  {
   "cell_type": "markdown",
   "metadata": {},
   "source": [
    "## BUSINESS UNDERSTANDING"
   ]
  },
  {
   "cell_type": "markdown",
   "metadata": {},
   "source": [
    "**INTRODUCTION**\n",
    "\n",
    "SyriaTel, like many telecommunications companies, faces the challenge of customers stop using their services because of one reason or another. This not only leads to a direct loss in revenue but also incurs additional costs related to acquiring new customers to replace those who have left through advertsing and marketing. The goal of this project is to predicts whether a customer is likely to stop doing business with SyriaTel in the near future. By identifying patterns and factors that contribute to customer stop using their services, the company can take proactive measures to retain at-risk customers and at the same same time gain new ones.\n",
    "Ultimately, this project should help SyriaTel not only retain more customers but also optimize its marketing and customer service efforts, leading to improved customer satisfaction and sustained revenue growth.\n",
    "\n",
    "**PROBLEM STATEMENT**\n",
    "\n",
    "SyriaTel faces significant revenue losses when customers discontinue their services. To address this, we need to develop a binary classification model to predict whether a customer is likely to stop using SyriaTel’s services soon. By analyzing customer data, such as usage patterns and service interactions, this model will identify at-risk customers. Understanding these predictive patterns will allow SyriaTel to implement targeted retention strategies, reducing churn and associated revenue loss. This approach aims to enhance customer retention and improve overall financial performance.\n",
    "\n",
    "**OBJECTIVE**\n",
    "\n",
    "1. To develop a predictive model\n",
    "2. understand the key features in the data set\n",
    "3. Evaluate the model\n",
    "4. Aid in decision making \n",
    "\n",
    "**DATA DESCRIPTION**\n",
    "\n",
    "The data set is named sim_usage.csv and contains the following sections; \n",
    "\n",
    "\n",
    "**METHODOLOGY**\n",
    "\n",
    "This project will follow the following steps\n",
    "1. Data understanding ; reading the data and inspecting it\n",
    "2. Data preparation; involves cleaning and handling outlier\n",
    "3. Modelling; bulding predictive models\n",
    "4. Evaluation ; assesing the model performance"
   ]
  }
 ],
 "metadata": {
  "language_info": {
   "name": "python"
  }
 },
 "nbformat": 4,
 "nbformat_minor": 2
}
